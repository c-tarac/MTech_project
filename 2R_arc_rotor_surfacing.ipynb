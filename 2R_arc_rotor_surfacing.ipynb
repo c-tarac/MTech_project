{
 "cells": [
  {
   "cell_type": "code",
   "execution_count": 1,
   "id": "8e3aece7",
   "metadata": {},
   "outputs": [],
   "source": [
    "import numpy as np\n",
    "import pandas as pd\n",
    "import matplotlib.pyplot as plt\n",
    "%matplotlib inline"
   ]
  },
  {
   "cell_type": "code",
   "execution_count": 2,
   "id": "ef9f2452",
   "metadata": {},
   "outputs": [],
   "source": [
    "# defining no. of poles and calculation of pole pitch"
   ]
  },
  {
   "cell_type": "code",
   "execution_count": 3,
   "id": "0fdda1ec",
   "metadata": {},
   "outputs": [],
   "source": [
    "no_of_poles = 4\n",
    "pole_pitch = 360/no_of_poles\n",
    "pole_pitch_rad = (2*np.pi)/no_of_poles"
   ]
  },
  {
   "cell_type": "code",
   "execution_count": 4,
   "id": "80ece0cf",
   "metadata": {},
   "outputs": [
    {
     "data": {
      "text/plain": [
       "(81.0, 9.0)"
      ]
     },
     "execution_count": 4,
     "metadata": {},
     "output_type": "execute_result"
    }
   ],
   "source": [
    "# definition of bigger arc and smaller arc......\n",
    "# give input as percantage of pole-pitch\n",
    "\n",
    "control = 0.9 # default\n",
    "# give offset for arc from origin\n",
    "offset=0.5\n",
    "air_gap_min = 0.7\n",
    "inner_radius_stator = 4\n",
    "outer_radius_rotor = inner_radius_stator-air_gap_min \n",
    "bigger_arc_spread_rad = control*pole_pitch*(np.pi)/180\n",
    "bigger_arc_spread= control*pole_pitch\n",
    "smaller_arc_spread_rad = (pole_pitch-bigger_arc_spread)*(np.pi)/180\n",
    "smaller_arc_spread = pole_pitch-bigger_arc_spread\n",
    "bigger_arc_spread,smaller_arc_spread"
   ]
  },
  {
   "cell_type": "code",
   "execution_count": 5,
   "id": "57792ec7",
   "metadata": {},
   "outputs": [],
   "source": [
    "# reflected angle of bigger arc"
   ]
  },
  {
   "cell_type": "code",
   "execution_count": 6,
   "id": "5c42e1f9",
   "metadata": {},
   "outputs": [
    {
     "data": {
      "text/plain": [
       "(47.159741626685296, 49.5, 83.3402583733147)"
      ]
     },
     "execution_count": 6,
     "metadata": {},
     "output_type": "execute_result"
    }
   ],
   "source": [
    "theta_1 = 90 - (bigger_arc_spread/2)\n",
    "theta_1_rad = (theta_1)*(np.pi)/180\n",
    "l2=offset*(np.cos(theta_1_rad))\n",
    "theta_2_rad = np.arccos(l2/(outer_radius_rotor-offset))\n",
    "theta_2 = (180/(np.pi))* theta_2_rad\n",
    "half_theta_reflected_bigger_arc_rad = np.pi - theta_1_rad - theta_2_rad\n",
    "half_theta_reflected_bigger_arc = (180/(np.pi))*half_theta_reflected_bigger_arc_rad\n",
    "half_theta_reflected_bigger_arc,theta_1,theta_2"
   ]
  },
  {
   "cell_type": "code",
   "execution_count": 7,
   "id": "d7bda37e",
   "metadata": {},
   "outputs": [
    {
     "data": {
      "text/plain": [
       "(0.7477035610194116, 2.3938890925703813, 42.840258373314704, 137.1597416266853)"
      ]
     },
     "execution_count": 7,
     "metadata": {},
     "output_type": "execute_result"
    }
   ],
   "source": [
    "# start and end agle of bigger arc\n",
    "start_angle_bigger_arc_rad = ((np.pi)/2)-(half_theta_reflected_bigger_arc_rad)\n",
    "end_angle_bigger_arc_rad = ((np.pi)/2)+(half_theta_reflected_bigger_arc_rad)\n",
    "start_angle_bigger_arc = (90)-(half_theta_reflected_bigger_arc)\n",
    "end_angle_bigger_arc = (90)+(half_theta_reflected_bigger_arc)\n",
    "start_angle_bigger_arc_rad,end_angle_bigger_arc_rad,start_angle_bigger_arc,end_angle_bigger_arc"
   ]
  },
  {
   "cell_type": "code",
   "execution_count": 8,
   "id": "bf655c8d",
   "metadata": {},
   "outputs": [
    {
     "data": {
      "text/plain": [
       "94.3194832533706"
      ]
     },
     "execution_count": 8,
     "metadata": {},
     "output_type": "execute_result"
    }
   ],
   "source": [
    "end_angle_bigger_arc-start_angle_bigger_arc"
   ]
  },
  {
   "cell_type": "code",
   "execution_count": 9,
   "id": "8257fe4f",
   "metadata": {},
   "outputs": [
    {
     "data": {
      "text/plain": [
       "94.31948325337059"
      ]
     },
     "execution_count": 9,
     "metadata": {},
     "output_type": "execute_result"
    }
   ],
   "source": [
    "2*half_theta_reflected_bigger_arc"
   ]
  },
  {
   "cell_type": "markdown",
   "id": "e60d32a6",
   "metadata": {},
   "source": [
    "## points generaion for all bigger arcs"
   ]
  },
  {
   "cell_type": "code",
   "execution_count": 10,
   "id": "76d82cef",
   "metadata": {},
   "outputs": [],
   "source": [
    "# generation of circle from start to end points................................\n",
    "angle_bigger_arc_rad = np.linspace(start_angle_bigger_arc_rad,end_angle_bigger_arc_rad,100)\n",
    "X_bigger_arc1 = (outer_radius_rotor-offset)*np.cos(angle_bigger_arc_rad)\n",
    "# shift on y-axis\n",
    "y_bigger_arc1 = (outer_radius_rotor-offset)*np.sin(angle_bigger_arc_rad)+offset"
   ]
  },
  {
   "cell_type": "code",
   "execution_count": 11,
   "id": "6c14a7a7",
   "metadata": {},
   "outputs": [],
   "source": [
    "# Now point generation for second bigger arcs"
   ]
  },
  {
   "cell_type": "code",
   "execution_count": 12,
   "id": "c99a78c2",
   "metadata": {},
   "outputs": [
    {
     "data": {
      "text/plain": [
       "(-0.823092765775485, 0.823092765775485)"
      ]
     },
     "execution_count": 12,
     "metadata": {},
     "output_type": "execute_result"
    }
   ],
   "source": [
    "# start and end agle of another bigger arc\n",
    "start_angle_bigger_arc_rad2 = ((np.pi)/2)-pole_pitch_rad-(half_theta_reflected_bigger_arc_rad)\n",
    "end_angle_bigger_arc_rad2 = ((np.pi)/2)-pole_pitch_rad+(half_theta_reflected_bigger_arc_rad)\n",
    "start_angle_bigger_arc_rad2,end_angle_bigger_arc_rad2"
   ]
  },
  {
   "cell_type": "code",
   "execution_count": 13,
   "id": "60ec21bd",
   "metadata": {},
   "outputs": [],
   "source": [
    "# generation of circle from start to end points for another bigger arc................................\n",
    "angle_bigger_arc_rad2 = np.linspace(start_angle_bigger_arc_rad2,end_angle_bigger_arc_rad2,100)\n",
    "X_bigger_arc2 = (outer_radius_rotor-offset)*np.cos(angle_bigger_arc_rad2)+offset\n",
    "# shift on y-axis\n",
    "y_bigger_arc2 = (outer_radius_rotor-offset)*np.sin(angle_bigger_arc_rad2)"
   ]
  },
  {
   "cell_type": "code",
   "execution_count": 14,
   "id": "5c1270e9",
   "metadata": {},
   "outputs": [],
   "source": [
    "# start and end agle of bigger arc 3\n",
    "start_angle_bigger_arc_rad3 = ((np.pi)/2)-(half_theta_reflected_bigger_arc_rad) + pole_pitch_rad\n",
    "end_angle_bigger_arc_rad3 = ((np.pi)/2)+(half_theta_reflected_bigger_arc_rad) + pole_pitch_rad\n",
    "start_angle_bigger_arc3 = (90)-(half_theta_reflected_bigger_arc)\n",
    "end_angle_bigger_arc3 = (90)+(half_theta_reflected_bigger_arc)\n",
    "angle_bigger_arc_rad3 = np.linspace(start_angle_bigger_arc_rad3,end_angle_bigger_arc_rad3,100)\n",
    "X_bigger_arc3 = (outer_radius_rotor-offset)*np.cos(angle_bigger_arc_rad3)-offset\n",
    "# shift on y-axis\n",
    "y_bigger_arc3 = (outer_radius_rotor-offset)*np.sin(angle_bigger_arc_rad3)"
   ]
  },
  {
   "cell_type": "code",
   "execution_count": 15,
   "id": "662ad8fd",
   "metadata": {},
   "outputs": [],
   "source": [
    "# start and end agle of bigger arc 4\n",
    "start_angle_bigger_arc_rad4 = ((np.pi)/2)-(half_theta_reflected_bigger_arc_rad) + pole_pitch_rad*2\n",
    "end_angle_bigger_arc_rad4 = ((np.pi)/2)+(half_theta_reflected_bigger_arc_rad) + pole_pitch_rad*2\n",
    "start_angle_bigger_arc4 = (90)-(half_theta_reflected_bigger_arc)\n",
    "end_angle_bigger_arc4 = (90)+(half_theta_reflected_bigger_arc)\n",
    "angle_bigger_arc_rad4 = np.linspace(start_angle_bigger_arc_rad4,end_angle_bigger_arc_rad4,100)\n",
    "X_bigger_arc4 = (outer_radius_rotor-offset)*np.cos(angle_bigger_arc_rad4)\n",
    "# shift on y-axis\n",
    "y_bigger_arc4 = (outer_radius_rotor-offset)*np.sin(angle_bigger_arc_rad4)-offset"
   ]
  },
  {
   "cell_type": "code",
   "execution_count": 16,
   "id": "3b2b718d",
   "metadata": {},
   "outputs": [
    {
     "data": {
      "text/plain": [
       "(2.0531063839695185, 2.403878718853595, 2.403878718853595, 2.0531063839695185)"
      ]
     },
     "execution_count": 16,
     "metadata": {},
     "output_type": "execute_result"
    }
   ],
   "source": [
    "# start point of smaller arc\n",
    "# end point of smaller arc\n",
    "x1=X_bigger_arc1[0]\n",
    "y1=y_bigger_arc1[0]\n",
    "x2=X_bigger_arc2[99]\n",
    "y2=y_bigger_arc2[99]\n",
    "x1,y1,x2,y2"
   ]
  },
  {
   "cell_type": "markdown",
   "id": "46307c15",
   "metadata": {},
   "source": [
    "**equation of perpendiculars**"
   ]
  },
  {
   "cell_type": "code",
   "execution_count": 17,
   "id": "543a605a",
   "metadata": {},
   "outputs": [
    {
     "data": {
      "text/plain": [
       "0.9273161555187396"
      ]
     },
     "execution_count": 17,
     "metadata": {},
     "output_type": "execute_result"
    }
   ],
   "source": [
    "# perpendicular passing through x1,y1\n",
    "slope_perpendicular_1 = ((y1-offset)/x1)\n",
    "slope_perpendicular_1"
   ]
  },
  {
   "cell_type": "code",
   "execution_count": 18,
   "id": "83bc6e59",
   "metadata": {},
   "outputs": [
    {
     "data": {
      "text/plain": [
       "0.5"
      ]
     },
     "execution_count": 18,
     "metadata": {},
     "output_type": "execute_result"
    }
   ],
   "source": [
    "c1  = y1-slope_perpendicular_1*x1\n",
    "c1"
   ]
  },
  {
   "cell_type": "code",
   "execution_count": 19,
   "id": "67bf744b",
   "metadata": {},
   "outputs": [
    {
     "data": {
      "text/plain": [
       "1.0783808672465123"
      ]
     },
     "execution_count": 19,
     "metadata": {},
     "output_type": "execute_result"
    }
   ],
   "source": [
    "# perpendicular passing through x2,y2\n",
    "slope_perpendicular_2 = y2/(x2-offset)\n",
    "slope_perpendicular_2"
   ]
  },
  {
   "cell_type": "code",
   "execution_count": 20,
   "id": "b45a8347",
   "metadata": {},
   "outputs": [
    {
     "data": {
      "text/plain": [
       "-0.539190433623256"
      ]
     },
     "execution_count": 20,
     "metadata": {},
     "output_type": "execute_result"
    }
   ],
   "source": [
    "c2=y2-slope_perpendicular_2*x2\n",
    "c2"
   ]
  },
  {
   "cell_type": "code",
   "execution_count": 21,
   "id": "fe9babcf",
   "metadata": {},
   "outputs": [],
   "source": [
    "xp1 = np.linspace(0,60,1000)\n",
    "yp1 = slope_perpendicular_1*xp1+c1\n",
    "xp2 = np.linspace(0,60,1000)\n",
    "yp2 = slope_perpendicular_2*xp2+c2"
   ]
  },
  {
   "cell_type": "code",
   "execution_count": 22,
   "id": "9b04d2cd",
   "metadata": {},
   "outputs": [],
   "source": [
    "## calculation of intersection of the perpendiculars................"
   ]
  },
  {
   "cell_type": "code",
   "execution_count": 23,
   "id": "f3f63091",
   "metadata": {},
   "outputs": [
    {
     "data": {
      "text/plain": [
       "{x: 6.87910777929365, y: 6.87910777929365}"
      ]
     },
     "execution_count": 23,
     "metadata": {},
     "output_type": "execute_result"
    }
   ],
   "source": [
    "import sympy as sym\n",
    "x,y = sym.symbols('x,y')\n",
    "eq1 = sym.Eq(y-slope_perpendicular_1*x,c1)\n",
    "eq2 = sym.Eq(y-slope_perpendicular_2*x,c2)\n",
    "result = sym.solve([eq1,eq2],(x,y))\n",
    "result"
   ]
  },
  {
   "cell_type": "code",
   "execution_count": 24,
   "id": "1acb1ab7",
   "metadata": {},
   "outputs": [],
   "source": [
    "list1 = list(result.values())"
   ]
  },
  {
   "cell_type": "code",
   "execution_count": 25,
   "id": "71367db0",
   "metadata": {},
   "outputs": [
    {
     "data": {
      "text/plain": [
       "[6.87910777929365, 6.87910777929365]"
      ]
     },
     "execution_count": 25,
     "metadata": {},
     "output_type": "execute_result"
    }
   ],
   "source": [
    "list1"
   ]
  },
  {
   "cell_type": "code",
   "execution_count": 26,
   "id": "283cf676",
   "metadata": {},
   "outputs": [
    {
     "data": {
      "text/plain": [
       "(6.879107779293655,\n",
       " 6.879107779293649,\n",
       " 2.0531063839695185,\n",
       " 2.403878718853595,\n",
       " 2.403878718853595,\n",
       " 2.0531063839695185)"
      ]
     },
     "execution_count": 26,
     "metadata": {},
     "output_type": "execute_result"
    }
   ],
   "source": [
    "# centre co-ordinates of smaller circle..........................\n",
    "xc1=float(list1[0])\n",
    "yc1=float(list1[1])\n",
    "xc1,yc1\n",
    "# start point of smaller arc\n",
    "# end point of smaller arc\n",
    "x1=X_bigger_arc1[0]\n",
    "y1=y_bigger_arc1[0]\n",
    "x2=X_bigger_arc2[99]\n",
    "y2=y_bigger_arc2[99]\n",
    "xc1,yc1,x1,y1,x2,y2"
   ]
  },
  {
   "cell_type": "code",
   "execution_count": 27,
   "id": "5d2318db",
   "metadata": {},
   "outputs": [],
   "source": [
    "#### calculation of angle spread of smaller arc............."
   ]
  },
  {
   "cell_type": "code",
   "execution_count": 28,
   "id": "e5c54403",
   "metadata": {},
   "outputs": [
    {
     "data": {
      "text/plain": [
       "(0.4960669932983382, 6.581638444268848, 6.581638444268848)"
      ]
     },
     "execution_count": 28,
     "metadata": {},
     "output_type": "execute_result"
    }
   ],
   "source": [
    "a = np.sqrt(((x1-x2)**2) + ((y1-y2)**2))\n",
    "b = np.sqrt(((xc1-x2)**2) + ((yc1-y2)**2))\n",
    "c = np.sqrt(((xc1-x1)**2) + ((yc1-y1)**2))\n",
    "# Radius of the smaller circle\\\n",
    "radius_smaller_circle = c\n",
    "a,b,c"
   ]
  },
  {
   "cell_type": "code",
   "execution_count": 29,
   "id": "cc2e32ca",
   "metadata": {},
   "outputs": [
    {
     "data": {
      "text/plain": [
       "(4.3194832533704615, 0.075389204756071)"
      ]
     },
     "execution_count": 29,
     "metadata": {},
     "output_type": "execute_result"
    }
   ],
   "source": [
    "theta_reflected_smaller_arc_rad = np.arccos((b*b+c*c-a*a)/(2*b*c))\n",
    "theta_reflected_smaller_arc = theta_reflected_smaller_arc_rad*(180/np.pi)\n",
    "theta_reflected_smaller_arc,theta_reflected_smaller_arc_rad"
   ]
  },
  {
   "cell_type": "markdown",
   "id": "f7cb0dd7",
   "metadata": {},
   "source": [
    "## points generation for smaller arcs"
   ]
  },
  {
   "cell_type": "code",
   "execution_count": 30,
   "id": "e0809792",
   "metadata": {},
   "outputs": [],
   "source": [
    "# start and end angles of smaller arc1 to generate the points on smaller circle\n",
    "start_angle_smaller_arc = (np.pi/2) - (pole_pitch_rad/2) + (np.pi) - (theta_reflected_smaller_arc_rad/2)\n",
    "\n",
    "end_angle_smaller_arc_rad = (np.pi/2) - (pole_pitch_rad/2) + (np.pi) + (theta_reflected_smaller_arc_rad/2)\n"
   ]
  },
  {
   "cell_type": "code",
   "execution_count": 31,
   "id": "b3dc0447",
   "metadata": {},
   "outputs": [],
   "source": [
    "# generate points on smaller circle within given range of reflected spread\n",
    "# generation of smaller circle from start to end points................................\n",
    "\n",
    "angle_smaller_arc_rad = np.linspace(start_angle_smaller_arc,end_angle_smaller_arc_rad,100)\n",
    "\n",
    "# shift on x-axis\n",
    "X_smaller_arc = (radius_smaller_circle)*np.cos(angle_smaller_arc_rad) + xc1\n",
    "# shift on y-axis\n",
    "y_smaller_arc = (radius_smaller_circle)*np.sin(angle_smaller_arc_rad)+ yc1"
   ]
  },
  {
   "cell_type": "code",
   "execution_count": 32,
   "id": "30a21ea3",
   "metadata": {},
   "outputs": [],
   "source": [
    "# start and end angles of smaller arc2 to generate the points on smaller circle\n",
    "start_angle_smaller_arc2 = (np.pi/2) - (pole_pitch_rad/2) + (np.pi) - (theta_reflected_smaller_arc_rad/2) + pole_pitch_rad\n",
    "\n",
    "end_angle_smaller_arc_rad2 = (np.pi/2) - (pole_pitch_rad/2) + (np.pi) + (theta_reflected_smaller_arc_rad/2) + pole_pitch_rad"
   ]
  },
  {
   "cell_type": "code",
   "execution_count": 33,
   "id": "5b0db259",
   "metadata": {},
   "outputs": [],
   "source": [
    "# generate points on smaller circle within given range of reflected spread\n",
    "# generation of smaller circle from start to end points................................\n",
    "\n",
    "angle_smaller_arc_rad2 = np.linspace(start_angle_smaller_arc2,end_angle_smaller_arc_rad2,100)\n",
    "\n",
    "# shift on x-axis\n",
    "X_smaller_arc2 = (radius_smaller_circle)*np.cos(angle_smaller_arc_rad2) - xc1\n",
    "# shift on y-axis\n",
    "y_smaller_arc2 = (radius_smaller_circle)*np.sin(angle_smaller_arc_rad2)+ yc1"
   ]
  },
  {
   "cell_type": "code",
   "execution_count": 34,
   "id": "a555e742",
   "metadata": {},
   "outputs": [],
   "source": [
    "# start and end angles of smaller arc3 to generate the points on smaller circle\n",
    "start_angle_smaller_arc3 = (np.pi/2) - (pole_pitch_rad/2) + (np.pi) - (theta_reflected_smaller_arc_rad/2) + pole_pitch_rad*2\n",
    "\n",
    "end_angle_smaller_arc_rad3 = (np.pi/2) - (pole_pitch_rad/2) + (np.pi) + (theta_reflected_smaller_arc_rad/2) + pole_pitch_rad*2"
   ]
  },
  {
   "cell_type": "code",
   "execution_count": 35,
   "id": "cba221d8",
   "metadata": {},
   "outputs": [],
   "source": [
    "# generate points on smaller circle within given range of reflected spread\n",
    "# generation of smaller circle from start to end points................................\n",
    "\n",
    "angle_smaller_arc_rad3 = np.linspace(start_angle_smaller_arc3,end_angle_smaller_arc_rad3,100)\n",
    "\n",
    "# shift on x-axis\n",
    "X_smaller_arc3 = (radius_smaller_circle)*np.cos(angle_smaller_arc_rad3) - xc1\n",
    "# shift on y-axis\n",
    "y_smaller_arc3 = (radius_smaller_circle)*np.sin(angle_smaller_arc_rad3)- yc1\n"
   ]
  },
  {
   "cell_type": "code",
   "execution_count": 36,
   "id": "cd24e3ea",
   "metadata": {},
   "outputs": [],
   "source": [
    "# start and end angles of smaller arc4 to generate the points on smaller circle\n",
    "start_angle_smaller_arc4 = (np.pi/2) - (pole_pitch_rad/2) + (np.pi) - (theta_reflected_smaller_arc_rad/2) - pole_pitch_rad\n",
    "\n",
    "end_angle_smaller_arc_rad4 = (np.pi/2) - (pole_pitch_rad/2) + (np.pi) + (theta_reflected_smaller_arc_rad/2) - pole_pitch_rad\n",
    "# generate points on smaller circle within given range of reflected spread\n",
    "# generation of smaller circle from start to end points................................\n",
    "\n",
    "angle_smaller_arc_rad4 = np.linspace(start_angle_smaller_arc4,end_angle_smaller_arc_rad4,100)\n",
    "\n",
    "# shift on x-axis\n",
    "X_smaller_arc4 = (radius_smaller_circle)*np.cos(angle_smaller_arc_rad4) + xc1\n",
    "# shift on y-axis\n",
    "y_smaller_arc4 = (radius_smaller_circle)*np.sin(angle_smaller_arc_rad4) -  yc1\n"
   ]
  },
  {
   "cell_type": "markdown",
   "id": "eb918704",
   "metadata": {},
   "source": [
    "## plot all the regions together"
   ]
  },
  {
   "cell_type": "code",
   "execution_count": 37,
   "id": "36b1d632",
   "metadata": {},
   "outputs": [
    {
     "data": {
      "image/png": "[encoded data removed]",
      "text/plain": [
       "<Figure size 504x504 with 1 Axes>"
      ]
     },
     "metadata": {
      "needs_background": "light"
     },
     "output_type": "display_data"
    }
   ],
   "source": [
    "# plot all things together\n",
    "from matplotlib import pyplot as plt\n",
    "plt.rcParams[\"figure.figsize\"] = [7, 7]\n",
    "plt.rcParams[\"figure.autolayout\"] = True\n",
    "x_origin = [0]\n",
    "y_origin = [0]\n",
    "x_centre1=[0]\n",
    "y_centre1=[offset]\n",
    "x_centre2=[offset]\n",
    "y_centre2=[0]\n",
    "plt.xlim(-10,10)\n",
    "plt.ylim(-10, 10)\n",
    "# plt.grid()\n",
    "# plt.axis('equal')\n",
    "\n",
    "# plt.plot(xp1,yp1)\n",
    "# plt.plot(xp2,yp2)\n",
    "plt.plot(x_origin, y_origin, marker=\"o\", markersize=3, markerfacecolor=\"red\")\n",
    "plt.plot(x_centre1, y_centre1, marker=\"o\", markersize=3, markerfacecolor=\"orange\")\n",
    "# plt.plot(x_centre2, y_centre2, marker=\"o\", markersize=3,markerfacecolor=\"green\")\n",
    "\n",
    "plt.plot(X_bigger_arc1,y_bigger_arc1,color='green')\n",
    "plt.plot(X_bigger_arc2,y_bigger_arc2,color='green')\n",
    "plt.plot(X_bigger_arc3,y_bigger_arc3,color='green')\n",
    "plt.plot(X_bigger_arc4,y_bigger_arc4,color='green')\n",
    "\n",
    "\n",
    "plt.plot(X_smaller_arc,y_smaller_arc,color='red')\n",
    "plt.plot(X_smaller_arc2,y_smaller_arc2,color='red')\n",
    "plt.plot(X_smaller_arc3,y_smaller_arc3,color='red')\n",
    "plt.plot(X_smaller_arc4,y_smaller_arc4,color='red')\n",
    "\n",
    "\n",
    "# import numpy as np\n",
    "# a = np.arange(0,2*np.pi,0.1)\n",
    "# X = inner_radius_stator*np.cos(a)\n",
    "# Y = inner_radius_stator*np.sin(a)\n",
    "# plt.plot(X,Y)\n",
    "plt.savefig('2_arc_surf.png')"
   ]
  },
  {
   "cell_type": "code",
   "execution_count": 38,
   "id": "d38e3b3b",
   "metadata": {},
   "outputs": [],
   "source": [
    "def dist(x,y):\n",
    "    distance = []\n",
    "    for i in range(len(x)):\n",
    "        distance.append((x[i]**2 + y[i]**2)**0.5)\n",
    "    return distance \n",
    "        "
   ]
  },
  {
   "cell_type": "code",
   "execution_count": 39,
   "id": "116b0a7e",
   "metadata": {},
   "outputs": [],
   "source": [
    "one = dist(X_smaller_arc,y_smaller_arc)"
   ]
  },
  {
   "cell_type": "code",
   "execution_count": 40,
   "id": "d85cc3cc",
   "metadata": {},
   "outputs": [
    {
     "data": {
      "text/plain": [
       "1.5531094508826058"
      ]
     },
     "execution_count": 40,
     "metadata": {},
     "output_type": "execute_result"
    }
   ],
   "source": [
    "inner_radius_stator-min(one)+air_gap_min"
   ]
  },
  {
   "cell_type": "code",
   "execution_count": 41,
   "id": "620d0435",
   "metadata": {},
   "outputs": [],
   "source": [
    "def maxoffsetLimitIndicator(x,y,radius,maxAirgap) :\n",
    "    offset = np.arange(0,0.2*radius,0.1)\n",
    "    one = dist(x,y)\n",
    "    "
   ]
  },
  {
   "cell_type": "code",
   "execution_count": 114,
   "id": "215f3a3e",
   "metadata": {},
   "outputs": [],
   "source": [
    "############################################################################################################"
   ]
  },
  {
   "cell_type": "code",
   "execution_count": null,
   "id": "e43b71f6",
   "metadata": {},
   "outputs": [],
   "source": [
    "X_bigger_arc1,y_bigger_arc1\n",
    "X_bigger_arc2,y_bigger_arc2\n",
    "X_bigger_arc3,y_bigger_arc3\n",
    "X_bigger_arc4,y_bigger_arc4"
   ]
  },
  {
   "cell_type": "code",
   "execution_count": 188,
   "id": "38d51e88",
   "metadata": {},
   "outputs": [],
   "source": [
    "# rotation of bigger_arc_1"
   ]
  },
  {
   "cell_type": "code",
   "execution_count": 190,
   "id": "6bfafdb3",
   "metadata": {},
   "outputs": [],
   "source": [
    "arr1=np.array((X_bigger_arc1.T,y_bigger_arc1.T)).T\n",
    "theta_r=(np.pi)/4\n",
    "rot_mat = np.array([[np.cos(theta_r),np.sin(theta_r)], [-np.sin(theta_r),np.cos(theta_r)]])\n",
    "rotated = np.matmul(rot_mat,arr1.T).T\n",
    "X_bigger_arc1_rot=[]\n",
    "y_bigger_arc1_rot=[]\n",
    "\n",
    "for ele in rotated:\n",
    "    X_bigger_arc1_rot.append(ele[0])\n",
    "    y_bigger_arc1_rot.append(ele[1])"
   ]
  },
  {
   "cell_type": "code",
   "execution_count": 191,
   "id": "90679a6e",
   "metadata": {},
   "outputs": [],
   "source": [
    "# rotation of bigger arc 2"
   ]
  },
  {
   "cell_type": "code",
   "execution_count": 224,
   "id": "438182b2",
   "metadata": {},
   "outputs": [],
   "source": [
    "arr2=np.array((X_bigger_arc2.T,y_bigger_arc2.T)).T\n",
    "theta_r=(np.pi)/4\n",
    "rot_mat = np.array([[np.cos(theta_r),np.sin(theta_r)], [-np.sin(theta_r),np.cos(theta_r)]])\n",
    "rotated = np.matmul(rot_mat,arr2.T).T\n",
    "X_bigger_arc2_rot=[]\n",
    "y_bigger_arc2_rot=[]\n",
    "\n",
    "for ele in rotated:\n",
    "    X_bigger_arc2_rot.append(ele[0])\n",
    "    y_bigger_arc2_rot.append(ele[1])"
   ]
  },
  {
   "cell_type": "code",
   "execution_count": null,
   "id": "7ebd2326",
   "metadata": {},
   "outputs": [],
   "source": [
    "# rotation of bigger arc 3"
   ]
  },
  {
   "cell_type": "code",
   "execution_count": 197,
   "id": "ba37fe4d",
   "metadata": {},
   "outputs": [],
   "source": [
    "arr3=np.array((X_bigger_arc3.T,y_bigger_arc3.T)).T\n",
    "theta_r=(np.pi)/4\n",
    "rot_mat = np.array([[np.cos(theta_r),np.sin(theta_r)], [-np.sin(theta_r),np.cos(theta_r)]])\n",
    "rotated = np.matmul(rot_mat,arr3.T).T\n",
    "X_bigger_arc3_rot=[]\n",
    "y_bigger_arc3_rot=[]\n",
    "\n",
    "for ele in rotated:\n",
    "    X_bigger_arc3_rot.append(ele[0])\n",
    "    y_bigger_arc3_rot.append(ele[1]) "
   ]
  },
  {
   "cell_type": "code",
   "execution_count": 198,
   "id": "6c62c7f1",
   "metadata": {},
   "outputs": [],
   "source": [
    "# rotation of bigger arc 4"
   ]
  },
  {
   "cell_type": "code",
   "execution_count": 200,
   "id": "822149b6",
   "metadata": {
    "scrolled": true
   },
   "outputs": [],
   "source": [
    "arr4=np.array((X_bigger_arc4.T,y_bigger_arc4.T)).T\n",
    "theta_r=(np.pi)/4\n",
    "rot_mat = np.array([[np.cos(theta_r),np.sin(theta_r)], [-np.sin(theta_r),np.cos(theta_r)]])\n",
    "rotated = np.matmul(rot_mat,arr4.T).T\n",
    "X_bigger_arc4_rot=[]\n",
    "y_bigger_arc4_rot=[]\n",
    "\n",
    "for ele in rotated:\n",
    "    X_bigger_arc4_rot.append(ele[0])\n",
    "    y_bigger_arc4_rot.append(ele[1])"
   ]
  },
  {
   "cell_type": "code",
   "execution_count": 201,
   "id": "1bd21a22",
   "metadata": {},
   "outputs": [],
   "source": [
    "# rotation of smaller arc 1\n",
    "X_smaller_arc,y_smaller_arc\n",
    "X_smaller_arc2,y_smaller_arc2\n",
    "X_smaller_arc3,y_smaller_arc3\n",
    "X_smaller_arc4,y_smaller_arc4`"
   ]
  },
  {
   "cell_type": "code",
   "execution_count": 209,
   "id": "37ac4c0f",
   "metadata": {},
   "outputs": [],
   "source": [
    "arr11=np.array((X_smaller_arc.T,y_smaller_arc.T)).T\n",
    "theta_r=(np.pi)/4\n",
    "rot_mat = np.array([[np.cos(theta_r),np.sin(theta_r)], [-np.sin(theta_r),np.cos(theta_r)]])\n",
    "rotated = np.matmul(rot_mat,arr11.T).T\n",
    "X_smaller_arc1_rot=[]\n",
    "y_smaller_arc1_rot=[]\n",
    "\n",
    "for ele in rotated:\n",
    "    X_smaller_arc1_rot.append(ele[0])\n",
    "    y_smaller_arc1_rot.append(ele[1])"
   ]
  },
  {
   "cell_type": "code",
   "execution_count": null,
   "id": "28c1ca70",
   "metadata": {},
   "outputs": [],
   "source": [
    "# rotation of smaller arc 2"
   ]
  },
  {
   "cell_type": "code",
   "execution_count": 213,
   "id": "4aa33820",
   "metadata": {},
   "outputs": [],
   "source": [
    "arr12=np.array((X_smaller_arc2.T,y_smaller_arc2.T)).T\n",
    "theta_r=(np.pi)/4\n",
    "rot_mat = np.array([[np.cos(theta_r),np.sin(theta_r)], [-np.sin(theta_r),np.cos(theta_r)]])\n",
    "rotated = np.matmul(rot_mat,arr12.T).T\n",
    "X_smaller_arc2_rot=[]\n",
    "y_smaller_arc2_rot=[]\n",
    "\n",
    "for ele in rotated:\n",
    "    X_smaller_arc2_rot.append(ele[0])\n",
    "    y_smaller_arc2_rot.append(ele[1])\n"
   ]
  },
  {
   "cell_type": "code",
   "execution_count": null,
   "id": "b513b014",
   "metadata": {},
   "outputs": [],
   "source": [
    "# rotation of smaller arc 3"
   ]
  },
  {
   "cell_type": "code",
   "execution_count": 215,
   "id": "bd6c206a",
   "metadata": {},
   "outputs": [],
   "source": [
    "arr13=np.array((X_smaller_arc3.T,y_smaller_arc3.T)).T\n",
    "theta_r=(np.pi)/4\n",
    "rot_mat = np.array([[np.cos(theta_r),np.sin(theta_r)], [-np.sin(theta_r),np.cos(theta_r)]])\n",
    "rotated = np.matmul(rot_mat,arr13.T).T\n",
    "X_smaller_arc3_rot=[]\n",
    "y_smaller_arc3_rot=[]\n",
    "\n",
    "for ele in rotated:\n",
    "    X_smaller_arc3_rot.append(ele[0])\n",
    "    y_smaller_arc3_rot.append(ele[1])"
   ]
  },
  {
   "cell_type": "code",
   "execution_count": null,
   "id": "0064ed3b",
   "metadata": {},
   "outputs": [],
   "source": [
    "# rotation of smaller arc 4"
   ]
  },
  {
   "cell_type": "code",
   "execution_count": 217,
   "id": "47930c4a",
   "metadata": {},
   "outputs": [],
   "source": [
    "arr14=np.array((X_smaller_arc4.T,y_smaller_arc4.T)).T\n",
    "theta_r=(np.pi)/4\n",
    "rot_mat = np.array([[np.cos(theta_r),np.sin(theta_r)], [-np.sin(theta_r),np.cos(theta_r)]])\n",
    "rotated = np.matmul(rot_mat,arr14.T).T\n",
    "X_smaller_arc4_rot=[]\n",
    "y_smaller_arc4_rot=[]\n",
    "\n",
    "for ele in rotated:\n",
    "    X_smaller_arc4_rot.append(ele[0])\n",
    "    y_smaller_arc4_rot.append(ele[1])\n"
   ]
  },
  {
   "cell_type": "code",
   "execution_count": 227,
   "id": "f7c6c392",
   "metadata": {},
   "outputs": [
    {
     "data": {
      "image/png": "[encoded data removed]",
      "text/plain": [
       "<Figure size 504x504 with 1 Axes>"
      ]
     },
     "metadata": {
      "needs_background": "light"
     },
     "output_type": "display_data"
    }
   ],
   "source": [
    "# plot all things together\n",
    "from matplotlib import pyplot as plt\n",
    "plt.rcParams[\"figure.figsize\"] = [7, 7]\n",
    "plt.rcParams[\"figure.autolayout\"] = True\n",
    "x_origin = [0]\n",
    "y_origin = [0]\n",
    "x_centre1=offset*np.cos(theta_r)\n",
    "y_centre1=offset*np.sin(theta_r)\n",
    "x_centre2=[offset]\n",
    "y_centre2=[0]\n",
    "plt.xlim(-10,10)\n",
    "plt.ylim(-10, 10)\n",
    "# plt.grid()\n",
    "#plt.axis('equal')\n",
    "\n",
    "# plt.plot(xp1,yp1)\n",
    "# plt.plot(xp2,yp2)\n",
    "plt.plot(x_origin, y_origin, marker=\"o\", markersize=3, markerfacecolor=\"red\")\n",
    "plt.plot(x_centre1, y_centre1, marker=\"o\", markersize=3, markerfacecolor=\"orange\")\n",
    "# plt.plot(x_centre2, y_centre2, marker=\"o\", markersize=3,markerfacecolor=\"green\")\n",
    "\n",
    "plt.plot(X_bigger_arc1_rot,y_bigger_arc1_rot,color='green')\n",
    "plt.plot(X_bigger_arc2_rot,y_bigger_arc2_rot,color='green')\n",
    "plt.plot(X_bigger_arc3_rot,y_bigger_arc3_rot,color='green')\n",
    "plt.plot(X_bigger_arc4_rot,y_bigger_arc4_rot,color='green')\n",
    "\n",
    "\n",
    "plt.plot(X_smaller_arc1_rot,y_smaller_arc1_rot,color='red')\n",
    "plt.plot(X_smaller_arc2_rot,y_smaller_arc2_rot,color='red')\n",
    "plt.plot(X_smaller_arc3_rot,y_smaller_arc3_rot,color='red')\n",
    "plt.plot(X_smaller_arc4_rot,y_smaller_arc4_rot,color='red')\n",
    "\n",
    "\n",
    "# import numpy as np\n",
    "# a = np.arange(0,2*np.pi,0.1)\n",
    "# X = inner_radius_stator*np.cos(a)\n",
    "# Y = inner_radius_stator*np.sin(a)\n",
    "# plt.plot(X,Y)\n",
    "plt.savefig('2_arc_surf_rotated.png')"
   ]
  },
  {
   "cell_type": "code",
   "execution_count": null,
   "id": "30177033",
   "metadata": {},
   "outputs": [],
   "source": []
  }
 ],
 "metadata": {
  "kernelspec": {
   "display_name": "Python 3 (ipykernel)",
   "language": "python",
   "name": "python3"
  },
  "language_info": {
   "codemirror_mode": {
    "name": "ipython",
    "version": 3
   },
   "file_extension": ".py",
   "mimetype": "text/x-python",
   "name": "python",
   "nbconvert_exporter": "python",
   "pygments_lexer": "ipython3",
   "version": "3.8.12"
  }
 },
 "nbformat": 4,
 "nbformat_minor": 5
}
